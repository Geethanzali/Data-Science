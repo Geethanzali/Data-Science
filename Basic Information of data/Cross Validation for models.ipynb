{
 "cells": [
  {
   "cell_type": "code",
   "execution_count": 1,
   "metadata": {},
   "outputs": [],
   "source": [
    "import pandas as pd\n",
    "import numpy as np\n",
    "from sklearn.neighbors import NearestNeighbors\n",
    "import matplotlib.pyplot as plt\n",
    "from sklearn import linear_model\n",
    "import sys\n"
   ]
  },
  {
   "cell_type": "markdown",
   "metadata": {},
   "source": [
    "# Problem 2 a)"
   ]
  },
  {
   "cell_type": "code",
   "execution_count": 2,
   "metadata": {},
   "outputs": [
    {
     "data": {
      "text/html": [
       "<div>\n",
       "<style scoped>\n",
       "    .dataframe tbody tr th:only-of-type {\n",
       "        vertical-align: middle;\n",
       "    }\n",
       "\n",
       "    .dataframe tbody tr th {\n",
       "        vertical-align: top;\n",
       "    }\n",
       "\n",
       "    .dataframe thead th {\n",
       "        text-align: right;\n",
       "    }\n",
       "</style>\n",
       "<table border=\"1\" class=\"dataframe\">\n",
       "  <thead>\n",
       "    <tr style=\"text-align: right;\">\n",
       "      <th></th>\n",
       "      <th>house_value</th>\n",
       "      <th>Crime_Rate</th>\n",
       "      <th>Charles_river_bound</th>\n",
       "      <th>num_of_rooms</th>\n",
       "      <th>dist_to_employment_center</th>\n",
       "      <th>property_tax_rate</th>\n",
       "      <th>student_teacher_ratio</th>\n",
       "      <th>Nitric_Oxides</th>\n",
       "      <th>accessiblity_to_highway</th>\n",
       "    </tr>\n",
       "  </thead>\n",
       "  <tbody>\n",
       "    <tr>\n",
       "      <th>307</th>\n",
       "      <td>293000</td>\n",
       "      <td>0.0529</td>\n",
       "      <td>No</td>\n",
       "      <td>7</td>\n",
       "      <td>3.1827</td>\n",
       "      <td>222</td>\n",
       "      <td>18.4</td>\n",
       "      <td>0.472</td>\n",
       "      <td>7</td>\n",
       "    </tr>\n",
       "    <tr>\n",
       "      <th>343</th>\n",
       "      <td>254000</td>\n",
       "      <td>0.0236</td>\n",
       "      <td>No</td>\n",
       "      <td>7</td>\n",
       "      <td>5.7321</td>\n",
       "      <td>370</td>\n",
       "      <td>17.6</td>\n",
       "      <td>0.484</td>\n",
       "      <td>5</td>\n",
       "    </tr>\n",
       "    <tr>\n",
       "      <th>47</th>\n",
       "      <td>171000</td>\n",
       "      <td>0.2522</td>\n",
       "      <td>No</td>\n",
       "      <td>6</td>\n",
       "      <td>5.6894</td>\n",
       "      <td>233</td>\n",
       "      <td>17.9</td>\n",
       "      <td>0.448</td>\n",
       "      <td>3</td>\n",
       "    </tr>\n",
       "    <tr>\n",
       "      <th>67</th>\n",
       "      <td>227000</td>\n",
       "      <td>0.0627</td>\n",
       "      <td>No</td>\n",
       "      <td>6</td>\n",
       "      <td>6.4980</td>\n",
       "      <td>345</td>\n",
       "      <td>18.9</td>\n",
       "      <td>0.409</td>\n",
       "      <td>4</td>\n",
       "    </tr>\n",
       "    <tr>\n",
       "      <th>362</th>\n",
       "      <td>213000</td>\n",
       "      <td>3.3134</td>\n",
       "      <td>No</td>\n",
       "      <td>5</td>\n",
       "      <td>2.1036</td>\n",
       "      <td>666</td>\n",
       "      <td>20.2</td>\n",
       "      <td>0.770</td>\n",
       "      <td>24</td>\n",
       "    </tr>\n",
       "  </tbody>\n",
       "</table>\n",
       "</div>"
      ],
      "text/plain": [
       "     house_value  Crime_Rate Charles_river_bound  num_of_rooms  \\\n",
       "307       293000      0.0529                  No             7   \n",
       "343       254000      0.0236                  No             7   \n",
       "47        171000      0.2522                  No             6   \n",
       "67        227000      0.0627                  No             6   \n",
       "362       213000      3.3134                  No             5   \n",
       "\n",
       "     dist_to_employment_center  property_tax_rate  student_teacher_ratio  \\\n",
       "307                     3.1827                222                   18.4   \n",
       "343                     5.7321                370                   17.6   \n",
       "47                      5.6894                233                   17.9   \n",
       "67                      6.4980                345                   18.9   \n",
       "362                     2.1036                666                   20.2   \n",
       "\n",
       "     Nitric_Oxides  accessiblity_to_highway  \n",
       "307          0.472                        7  \n",
       "343          0.484                        5  \n",
       "47           0.448                        3  \n",
       "67           0.409                        4  \n",
       "362          0.770                       24  "
      ]
     },
     "execution_count": 2,
     "metadata": {},
     "output_type": "execute_result"
    }
   ],
   "source": [
    "#Part 1\n",
    "\n",
    "datafile1 = open(sys.argv[1], 'r')  #sys.argv[1]\n",
    "output=sys.argv[2]\n",
    "k=sys.argv[3]\n",
    "model=sys.argv[4]\n",
    "\n",
    "df= pd.read_csv(datafile1)"
   ]
  },
  {
   "cell_type": "code",
   "execution_count": 3,
   "metadata": {},
   "outputs": [],
   "source": [
    "def get_pred_dots(train,test):\n",
    "    n,m = train.shape # number of rows and columns\n",
    "    X = train.iloc[:,:m-1]# get training input data\n",
    "    query = test.iloc[:,:m-1]# get test input data\n",
    "    nbrs = NearestNeighbors(n_neighbors=2, algorithm='kd_tree').fit(X)\n",
    "    distances, nn_index = nbrs.kneighbors(query)# Get two nearest neighbors\n",
    "    pred = (train.iloc[nn_index[:,0],m-1].values+train.iloc[nn_index[:,1],m-1].values)/2.0\n",
    "    return pred\n",
    "\n",
    "# Linear model\n",
    "# Assumes the last column of data is the output dimension\n",
    "def get_pred_lr(train,test):\n",
    "    # Your implementation goes here\n",
    "    # You may leverage the linear_model module from sklearn (scikit-learn)\n",
    "    n,m = train.shape # number of rows and columns\n",
    "    X = train.iloc[:,:m-1]# get training input data\n",
    "    query = test.iloc[:,:m-1]# get test input data\n",
    "    Y= train.iloc[:,m-1]\n",
    "    regr = linear_model.LinearRegression()\n",
    "    regr.fit(X,Y)\n",
    "    pred = regr.predict(query)\n",
    "    return pred\n",
    "\n",
    "# Default predictor model\n",
    "# Assumes the last column of data is the output dimension\n",
    "def get_pred_default(train,test):\n",
    "    # Your implementation goes here\n",
    "    n,m = train.shape\n",
    "    X = train.iloc[:,:m-1]\n",
    "    Y= train.iloc[:,m-1]\n",
    "    pred=np.mean(Y)\n",
    "    query = test.iloc[:,:m-1]\n",
    "    return pred\n",
    "\n",
    "def do_cv(df,output,k,model):\n",
    "                       \n",
    "    cols = [col for col in df if col != output] + [output]\n",
    "    df1= df[cols]\n",
    "    y= df1[output]\n",
    "    \n",
    "    MSE=[]\n",
    "    df2=df1.sample(frac=1,random_state=1)\n",
    "    #df2 = df1.sample(frac=1, axis=1).sample(frac=1).reset_index(drop=True)\n",
    "\n",
    "    for i in range(k):\n",
    "        \n",
    "        df_folds=np.array_split(df2, k)\n",
    "        df_train = list(df_folds)\n",
    "        test  = df_train.pop(i)\n",
    "        train = pd.concat(df_train)\n",
    "        \n",
    "        if model=='get_pred_lr':\n",
    "            pred=get_pred_lr(train,test)\n",
    "        elif model=='get_pred_default':\n",
    "            pred=get_pred_default(train,test)\n",
    "        else:\n",
    "            pred=get_pred_dots(train,test)\n",
    "        \n",
    "        n,m = test.shape\n",
    "        y_test= test.iloc[:,m-1]\n",
    "        mse = np.mean((y_test - pred)**2)\n",
    "        MSE.append(mse)\n",
    "                    \n",
    "    return MSE\n",
    "\n",
    "do_cv(df,output,k,model)"
   ]
  },
  {
   "cell_type": "markdown",
   "metadata": {},
   "source": [
    "# Part 2b"
   ]
  },
  {
   "cell_type": "code",
   "execution_count": 22,
   "metadata": {},
   "outputs": [
    {
     "data": {
      "text/plain": [
       "506"
      ]
     },
     "execution_count": 22,
     "metadata": {},
     "output_type": "execute_result"
    }
   ],
   "source": [
    "#Part2\n",
    "datafile1 = open('house_no_missing.csv', 'r')  #sys.argv[1]\n",
    "df1= pd.read_csv(datafile1)\n",
    "\n",
    "df_drop = df1.drop(df1.columns[2:], axis=1)\n",
    "df_drop['Crime_Rate'] = np.log(df_drop['Crime_Rate'])\n",
    "\n",
    "m,n= df_drop.shape\n"
   ]
  },
  {
   "cell_type": "code",
   "execution_count": null,
   "metadata": {},
   "outputs": [],
   "source": [
    "#Leave-one out cross validation\n",
    "\n",
    "k1= do_cv(df_drop,'house_value',m,'get_pred_lr')"
   ]
  },
  {
   "cell_type": "code",
   "execution_count": 17,
   "metadata": {},
   "outputs": [
    {
     "name": "stdout",
     "output_type": "stream",
     "text": [
      "[9996405108.711805, 7528559786.107174, 6955849127.533749, 9341860452.886602]\n"
     ]
    }
   ],
   "source": [
    "k2= do_cv(df_drop,'house_value',m,'get_pred_default')"
   ]
  },
  {
   "cell_type": "code",
   "execution_count": 18,
   "metadata": {},
   "outputs": [
    {
     "name": "stdout",
     "output_type": "stream",
     "text": [
      "[10006698818.897638, 10339167322.834646, 8071081349.206349, 9078315476.190475]\n"
     ]
    }
   ],
   "source": [
    "k3= do_cv(df_drop,'house_value',m,'get_pred_dots')"
   ]
  },
  {
   "cell_type": "markdown",
   "metadata": {},
   "source": [
    "# Confidence Interval"
   ]
  },
  {
   "cell_type": "code",
   "execution_count": 7,
   "metadata": {},
   "outputs": [],
   "source": [
    "#Mean of mse\n",
    "m1= np.mean(k1)\n",
    "m2= np.mean(k2)\n",
    "m3= np.mean(k3)\n",
    "\n",
    "#Standard deviation\n",
    "s1=np.std(k1)\n",
    "s2=np.std(k2)\n",
    "s3=np.std(k3)\n",
    "\n",
    "m,n= df1.shape\n",
    "\n",
    "#Calculation Confidence interval assuming normal dist\n",
    "lb1= m1-((1.96*s1)/(np.sqrt(m))) #Lower bound\n",
    "ub1= m1+((1.96*s1)/(np.sqrt(m)))  #Upper bound\n",
    "b1= ((1.96*s1)/(np.sqrt(m)))\n",
    "\n",
    "lb2= m2-((1.96*s2)/(np.sqrt(m)))\n",
    "ub2= m2+((1.96*s2)/(np.sqrt(m)))\n",
    "b2=((1.96*s2)/(np.sqrt(m)))\n",
    "\n",
    "lb3= m3-((1.96*s3)/(np.sqrt(m)))\n",
    "ub1= m3+((1.96*s3)/(np.sqrt(m)))\n",
    "b3=((1.96*s3)/(np.sqrt(m)))"
   ]
  },
  {
   "cell_type": "code",
   "execution_count": 12,
   "metadata": {},
   "outputs": [
    {
     "data": {
      "image/png": "[encoded data removed]",
      "text/plain": [
       "<Figure size 432x288 with 1 Axes>"
      ]
     },
     "metadata": {},
     "output_type": "display_data"
    }
   ],
   "source": [
    "\n",
    "#Graph\n",
    "names = ['Linear regression', 'Connect the dots','Default model']\n",
    "x_pos = np.arange(len(names))\n",
    "CTEs = [m1,m3,m2]\n",
    "error = [b1,b3,b2]\n",
    "\n",
    "fig, ax = plt.subplots()\n",
    "ax.bar(x_pos, CTEs, yerr=error, align='center', alpha=0.5, ecolor='black', capsize=10)\n",
    "ax.set_ylabel('Mean Squared Error (MSE)')\n",
    "ax.set_xticks(x_pos)\n",
    "ax.set_xticklabels(names)\n",
    "ax.set_title('Mean Squared error of models for Leave-one-out Cross-Validation ',y=1.08)\n",
    "ax.yaxis.grid(True)\n",
    "\n",
    "# Save the figure and show\n",
    "plt.tight_layout()\n",
    "plt.savefig('MSE1.png')"
   ]
  }
 ],
 "metadata": {
  "kernelspec": {
   "display_name": "Python 3",
   "language": "python",
   "name": "python3"
  },
  "language_info": {
   "codemirror_mode": {
    "name": "ipython",
    "version": 3
   },
   "file_extension": ".py",
   "mimetype": "text/x-python",
   "name": "python",
   "nbconvert_exporter": "python",
   "pygments_lexer": "ipython3",
   "version": "3.6.5"
  }
 },
 "nbformat": 4,
 "nbformat_minor": 2
}
